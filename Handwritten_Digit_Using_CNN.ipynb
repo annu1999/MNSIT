{
  "nbformat": 4,
  "nbformat_minor": 0,
  "metadata": {
    "colab": {
      "name": "Handwritten Digit Using CNN.ipynb",
      "provenance": [],
      "collapsed_sections": [],
      "authorship_tag": "ABX9TyOhdw9sR3tEHj+B9nnC2yHf"
    },
    "kernelspec": {
      "name": "python3",
      "display_name": "Python 3"
    },
    "language_info": {
      "name": "python"
    }
  },
  "cells": [
    {
      "cell_type": "markdown",
      "source": [
        "Importing the libraries\n"
      ],
      "metadata": {
        "id": "LCcixvv3JII4"
      }
    },
    {
      "cell_type": "code",
      "source": [
        "import numpy as np\n",
        "import cv2\n",
        "np.random.seed(123) \n",
        "from matplotlib import pyplot as plt\n",
        "from keras.models import Sequential\n",
        "from keras.layers import Dense, Dropout, Activation, Flatten  \n",
        "from keras.layers import Convolution2D, MaxPooling2D \n",
        "\n",
        "from keras.utils import np_utils\n",
        "\n",
        "from keras.datasets import mnist"
      ],
      "metadata": {
        "id": "ImJXUo76JOq_"
      },
      "execution_count": 25,
      "outputs": []
    },
    {
      "cell_type": "markdown",
      "source": [
        "Splitting the Dataset"
      ],
      "metadata": {
        "id": "Z-vzrqI_OZpK"
      }
    },
    {
      "cell_type": "code",
      "source": [
        "(X_train, y_train), (X_test, y_test) = mnist.load_data() \n",
        "plt.imshow(X_train[0])\n",
        "plt.show()"
      ],
      "metadata": {
        "colab": {
          "base_uri": "https://localhost:8080/",
          "height": 265
        },
        "id": "09MwU5LMOhqu",
        "outputId": "2c474622-847b-4d89-d3da-0baafafd8a59"
      },
      "execution_count": 26,
      "outputs": [
        {
          "output_type": "display_data",
          "data": {
            "image/png": "[encoded data removed]",
            "text/plain": [
              "<Figure size 432x288 with 1 Axes>"
            ]
          },
          "metadata": {
            "needs_background": "light"
          }
        }
      ]
    },
    {
      "cell_type": "code",
      "source": [
        "X_train = X_train.reshape(X_train.shape[0],28, 28, 1) \n",
        "X_test = X_test.reshape(X_test.shape[0], 28, 28, 1)\n",
        "\n",
        "X_train = X_train.astype('float32')\n",
        "X_test = X_test.astype('float32')\n",
        "\n",
        "X_train /= 255\n",
        "X_test /= 255\n",
        "\n",
        "Y_train = np_utils.to_categorical(y_train, 10) \n",
        "Y_test = np_utils.to_categorical(y_test, 10)"
      ],
      "metadata": {
        "id": "Fjv4IpT1O2_1"
      },
      "execution_count": 27,
      "outputs": []
    },
    {
      "cell_type": "code",
      "source": [
        "model = Sequential()"
      ],
      "metadata": {
        "id": "UgzE73tVPYys"
      },
      "execution_count": 28,
      "outputs": []
    },
    {
      "cell_type": "code",
      "source": [
        "model.add(Convolution2D(32, (3, 3), activation='relu', input_shape=(28,28,1))) \n",
        "model.add(Convolution2D(32, (3, 3), activation='relu'))\n",
        "model.add(MaxPooling2D(pool_size=(2,2)))\n",
        "model.add(Dropout(0.25))"
      ],
      "metadata": {
        "id": "Pc_bI4VYTWf8"
      },
      "execution_count": 29,
      "outputs": []
    },
    {
      "cell_type": "code",
      "source": [
        "model.add(Flatten())\n",
        "model.add(Dense(128, activation='relu'))\n",
        "model.add(Dropout(0.5))\n",
        "model.add(Dense(10, activation='softmax'))"
      ],
      "metadata": {
        "id": "E_a2_eISXS1O"
      },
      "execution_count": 30,
      "outputs": []
    },
    {
      "cell_type": "code",
      "source": [
        "model.compile(loss='categorical_crossentropy',optimizer='adam',metrics=['accuracy'])\n"
      ],
      "metadata": {
        "id": "nL8TXxGramQf"
      },
      "execution_count": 31,
      "outputs": []
    },
    {
      "cell_type": "code",
      "source": [
        "model.fit(X_train, Y_train, batch_size=32, epochs=10, verbose=1)"
      ],
      "metadata": {
        "colab": {
          "base_uri": "https://localhost:8080/"
        },
        "id": "RqLxeJubezZQ",
        "outputId": "8655cc5f-b39b-4a81-ef86-391ce4878c7b"
      },
      "execution_count": 32,
      "outputs": [
        {
          "output_type": "stream",
          "name": "stdout",
          "text": [
            "Epoch 1/10\n",
            "1875/1875 [==============================] - 105s 56ms/step - loss: 0.2005 - accuracy: 0.9388\n",
            "Epoch 2/10\n",
            "1875/1875 [==============================] - 104s 56ms/step - loss: 0.0825 - accuracy: 0.9748\n",
            "Epoch 3/10\n",
            "1875/1875 [==============================] - 103s 55ms/step - loss: 0.0653 - accuracy: 0.9800\n",
            "Epoch 4/10\n",
            "1875/1875 [==============================] - 103s 55ms/step - loss: 0.0531 - accuracy: 0.9836\n",
            "Epoch 5/10\n",
            "1875/1875 [==============================] - 104s 56ms/step - loss: 0.0458 - accuracy: 0.9856\n",
            "Epoch 6/10\n",
            "1875/1875 [==============================] - 103s 55ms/step - loss: 0.0395 - accuracy: 0.9879\n",
            "Epoch 7/10\n",
            "1875/1875 [==============================] - 103s 55ms/step - loss: 0.0341 - accuracy: 0.9888\n",
            "Epoch 8/10\n",
            "1875/1875 [==============================] - 103s 55ms/step - loss: 0.0334 - accuracy: 0.9895\n",
            "Epoch 9/10\n",
            "1875/1875 [==============================] - 103s 55ms/step - loss: 0.0278 - accuracy: 0.9910\n",
            "Epoch 10/10\n",
            "1875/1875 [==============================] - 104s 55ms/step - loss: 0.0277 - accuracy: 0.9913\n"
          ]
        },
        {
          "output_type": "execute_result",
          "data": {
            "text/plain": [
              "<keras.callbacks.History at 0x7f7bdf391490>"
            ]
          },
          "metadata": {},
          "execution_count": 32
        }
      ]
    },
    {
      "cell_type": "code",
      "source": [
        "for i in np.random.choice(np.arange(0, len(Y_test)), size = (10,)):\n",
        "\t\n",
        "\tprobs = model.predict(X_test[np.newaxis, i])\n",
        "\tprediction = probs.argmax(axis=1)\n",
        " \n",
        "\timage = (X_test[i] * 255).reshape((28, 28)).astype(\"uint8\")\n",
        " \n",
        "\tprint(\"Actual digit is {0}, predicted {1}\".format(Y_test[i], prediction[0]))\n",
        "\tplt.imshow(image)\n",
        "\tplt.show()"
      ],
      "metadata": {
        "colab": {
          "base_uri": "https://localhost:8080/",
          "height": 1000
        },
        "id": "EV8r1SnafC1l",
        "outputId": "7271ded1-3df4-4c2a-8383-5fec49ae8def"
      },
      "execution_count": 34,
      "outputs": [
        {
          "output_type": "stream",
          "name": "stdout",
          "text": [
            "Actual digit is [0. 0. 0. 0. 0. 0. 0. 0. 0. 1.], predicted 9\n"
          ]
        },
        {
          "output_type": "display_data",
          "data": {
            "image/png": "[encoded data removed]",
            "text/plain": [
              "<Figure size 432x288 with 1 Axes>"
            ]
          },
          "metadata": {
            "needs_background": "light"
          }
        },
        {
          "output_type": "stream",
          "name": "stdout",
          "text": [
            "Actual digit is [0. 1. 0. 0. 0. 0. 0. 0. 0. 0.], predicted 1\n"
          ]
        },
        {
          "output_type": "display_data",
          "data": {
            "image/png": "[encoded data removed]",
            "text/plain": [
              "<Figure size 432x288 with 1 Axes>"
            ]
          },
          "metadata": {
            "needs_background": "light"
          }
        },
        {
          "output_type": "stream",
          "name": "stdout",
          "text": [
            "Actual digit is [0. 0. 0. 0. 1. 0. 0. 0. 0. 0.], predicted 4\n"
          ]
        },
        {
          "output_type": "display_data",
          "data": {
            "image/png": "[encoded data removed]",
            "text/plain": [
              "<Figure size 432x288 with 1 Axes>"
            ]
          },
          "metadata": {
            "needs_background": "light"
          }
        },
        {
          "output_type": "stream",
          "name": "stdout",
          "text": [
            "Actual digit is [0. 0. 0. 0. 0. 0. 1. 0. 0. 0.], predicted 6\n"
          ]
        },
        {
          "output_type": "display_data",
          "data": {
            "image/png": "[encoded data removed]",
            "text/plain": [
              "<Figure size 432x288 with 1 Axes>"
            ]
          },
          "metadata": {
            "needs_background": "light"
          }
        },
        {
          "output_type": "stream",
          "name": "stdout",
          "text": [
            "Actual digit is [0. 0. 0. 0. 0. 1. 0. 0. 0. 0.], predicted 5\n"
          ]
        },
        {
          "output_type": "display_data",
          "data": {
            "image/png": "[encoded data removed]",
            "text/plain": [
              "<Figure size 432x288 with 1 Axes>"
            ]
          },
          "metadata": {
            "needs_background": "light"
          }
        },
        {
          "output_type": "stream",
          "name": "stdout",
          "text": [
            "Actual digit is [0. 0. 0. 0. 0. 0. 0. 1. 0. 0.], predicted 7\n"
          ]
        },
        {
          "output_type": "display_data",
          "data": {
            "image/png": "[encoded data removed]",
            "text/plain": [
              "<Figure size 432x288 with 1 Axes>"
            ]
          },
          "metadata": {
            "needs_background": "light"
          }
        },
        {
          "output_type": "stream",
          "name": "stdout",
          "text": [
            "Actual digit is [1. 0. 0. 0. 0. 0. 0. 0. 0. 0.], predicted 0\n"
          ]
        },
        {
          "output_type": "display_data",
          "data": {
            "image/png": "[encoded data removed]",
            "text/plain": [
              "<Figure size 432x288 with 1 Axes>"
            ]
          },
          "metadata": {
            "needs_background": "light"
          }
        },
        {
          "output_type": "stream",
          "name": "stdout",
          "text": [
            "Actual digit is [0. 0. 0. 0. 0. 0. 0. 1. 0. 0.], predicted 7\n"
          ]
        },
        {
          "output_type": "display_data",
          "data": {
            "image/png": "[encoded data removed]",
            "text/plain": [
              "<Figure size 432x288 with 1 Axes>"
            ]
          },
          "metadata": {
            "needs_background": "light"
          }
        },
        {
          "output_type": "stream",
          "name": "stdout",
          "text": [
            "Actual digit is [1. 0. 0. 0. 0. 0. 0. 0. 0. 0.], predicted 0\n"
          ]
        },
        {
          "output_type": "display_data",
          "data": {
            "image/png": "[encoded data removed]",
            "text/plain": [
              "<Figure size 432x288 with 1 Axes>"
            ]
          },
          "metadata": {
            "needs_background": "light"
          }
        },
        {
          "output_type": "stream",
          "name": "stdout",
          "text": [
            "Actual digit is [1. 0. 0. 0. 0. 0. 0. 0. 0. 0.], predicted 0\n"
          ]
        },
        {
          "output_type": "display_data",
          "data": {
            "image/png": "[encoded data removed]",
            "text/plain": [
              "<Figure size 432x288 with 1 Axes>"
            ]
          },
          "metadata": {
            "needs_background": "light"
          }
        }
      ]
    }
  ]
}